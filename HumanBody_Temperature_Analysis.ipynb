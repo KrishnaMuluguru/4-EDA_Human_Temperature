{
 "cells": [
  {
   "cell_type": "markdown",
   "metadata": {},
   "source": [
    "# What is the True Normal Human Body Temperature? \n",
    "\n",
    "#### Background\n",
    "\n",
    "The mean normal body temperature was held to be 37$^{\\circ}$C or 98.6$^{\\circ}$F for more than 120 years since it was first conceptualized and reported by Carl Wunderlich in a famous 1868 book. But, is this value statistically correct?"
   ]
  },
  {
   "cell_type": "markdown",
   "metadata": {},
   "source": [
    "<h3>Exercises</h3>\n",
    "\n",
    "<p>In this exercise, you will analyze a dataset of human body temperatures and employ the concepts of hypothesis testing, confidence intervals, and statistical significance.</p>\n",
    "\n",
    "<p>Answer the following questions <b>in this notebook below and submit to your Github account</b>.</p> \n",
    "\n",
    "<ol>\n",
    "<li>  Is the distribution of body temperatures normal? \n",
    "    <ul>\n",
    "    <li> Although this is not a requirement for the Central Limit Theorem to hold (read the introduction on Wikipedia's page about the CLT carefully: https://en.wikipedia.org/wiki/Central_limit_theorem), it gives us some peace of mind that the population may also be normally distributed if we assume that this sample is representative of the population.\n",
    "    <li> Think about the way you're going to check for the normality of the distribution. Graphical methods are usually used first, but there are also other ways: https://en.wikipedia.org/wiki/Normality_test\n",
    "    </ul>\n",
    "<li>  Is the sample size large? Are the observations independent?\n",
    "    <ul>\n",
    "    <li> Remember that this is a condition for the Central Limit Theorem, and hence the statistical tests we are using, to apply.\n",
    "    </ul>\n",
    "<li>  Is the true population mean really 98.6 degrees F?\n",
    "    <ul>\n",
    "    <li> First, try a bootstrap hypothesis test.\n",
    "    <li> Now, let's try frequentist statistical testing. Would you use a one-sample or two-sample test? Why?\n",
    "    <li> In this situation, is it appropriate to use the $t$ or $z$ statistic? \n",
    "    <li> Now try using the other test. How is the result be different? Why?\n",
    "    </ul>\n",
    "<li>  Draw a small sample of size 10 from the data and repeat both frequentist tests. \n",
    "    <ul>\n",
    "    <li> Which one is the correct one to use? \n",
    "    <li> What do you notice? What does this tell you about the difference in application of the $t$ and $z$ statistic?\n",
    "    </ul>\n",
    "<li>  At what temperature should we consider someone's temperature to be \"abnormal\"?\n",
    "    <ul>\n",
    "    <li> As in the previous example, try calculating everything using the boostrap approach, as well as the frequentist approach.\n",
    "    <li> Start by computing the margin of error and confidence interval. When calculating the confidence interval, keep in mind that you should use the appropriate formula for one draw, and not N draws.\n",
    "    </ul>\n",
    "<li>  Is there a significant difference between males and females in normal temperature?\n",
    "    <ul>\n",
    "    <li> What testing approach did you use and why?\n",
    "    <li> Write a story with your conclusion in the context of the original problem.\n",
    "    </ul>\n",
    "</ol>\n",
    "\n",
    "You can include written notes in notebook cells using Markdown: \n",
    "   - In the control panel at the top, choose Cell > Cell Type > Markdown\n",
    "   - Markdown syntax: http://nestacms.com/docs/creating-content/markdown-cheat-sheet\n",
    "\n",
    "#### Resources\n",
    "\n",
    "+ Information and data sources: http://www.amstat.org/publications/jse/datasets/normtemp.txt, http://www.amstat.org/publications/jse/jse_data_archive.htm\n",
    "+ Markdown syntax: http://nestacms.com/docs/creating-content/markdown-cheat-sheet\n",
    "\n",
    "****"
   ]
  },
  {
   "cell_type": "code",
   "execution_count": 1,
   "metadata": {},
   "outputs": [],
   "source": [
    "import pandas as pd\n",
    "import numpy as np\n",
    "import scipy.stats as st\n",
    "import matplotlib.pyplot as plt\n",
    "import seaborn as sns\n",
    "from statsmodels.graphics.gofplots import qqplot\n",
    "import statsmodels.stats.weightstats as ws\n",
    "%matplotlib inline\n",
    "sns.set()"
   ]
  },
  {
   "cell_type": "code",
   "execution_count": 2,
   "metadata": {},
   "outputs": [],
   "source": [
    "HumanTempData = pd.read_csv('data/human_body_temperature.csv')"
   ]
  },
  {
   "cell_type": "code",
   "execution_count": 3,
   "metadata": {
    "scrolled": true
   },
   "outputs": [
    {
     "data": {
      "text/html": [
       "<div>\n",
       "<style scoped>\n",
       "    .dataframe tbody tr th:only-of-type {\n",
       "        vertical-align: middle;\n",
       "    }\n",
       "\n",
       "    .dataframe tbody tr th {\n",
       "        vertical-align: top;\n",
       "    }\n",
       "\n",
       "    .dataframe thead th {\n",
       "        text-align: right;\n",
       "    }\n",
       "</style>\n",
       "<table border=\"1\" class=\"dataframe\">\n",
       "  <thead>\n",
       "    <tr style=\"text-align: right;\">\n",
       "      <th></th>\n",
       "      <th>temperature</th>\n",
       "      <th>gender</th>\n",
       "      <th>heart_rate</th>\n",
       "    </tr>\n",
       "  </thead>\n",
       "  <tbody>\n",
       "    <tr>\n",
       "      <th>0</th>\n",
       "      <td>99.3</td>\n",
       "      <td>F</td>\n",
       "      <td>68.0</td>\n",
       "    </tr>\n",
       "    <tr>\n",
       "      <th>1</th>\n",
       "      <td>98.4</td>\n",
       "      <td>F</td>\n",
       "      <td>81.0</td>\n",
       "    </tr>\n",
       "    <tr>\n",
       "      <th>2</th>\n",
       "      <td>97.8</td>\n",
       "      <td>M</td>\n",
       "      <td>73.0</td>\n",
       "    </tr>\n",
       "    <tr>\n",
       "      <th>3</th>\n",
       "      <td>99.2</td>\n",
       "      <td>F</td>\n",
       "      <td>66.0</td>\n",
       "    </tr>\n",
       "    <tr>\n",
       "      <th>4</th>\n",
       "      <td>98.0</td>\n",
       "      <td>F</td>\n",
       "      <td>73.0</td>\n",
       "    </tr>\n",
       "  </tbody>\n",
       "</table>\n",
       "</div>"
      ],
      "text/plain": [
       "   temperature gender  heart_rate\n",
       "0         99.3      F        68.0\n",
       "1         98.4      F        81.0\n",
       "2         97.8      M        73.0\n",
       "3         99.2      F        66.0\n",
       "4         98.0      F        73.0"
      ]
     },
     "execution_count": 3,
     "metadata": {},
     "output_type": "execute_result"
    }
   ],
   "source": [
    "HumanTempData.head()"
   ]
  },
  {
   "cell_type": "code",
   "execution_count": 4,
   "metadata": {},
   "outputs": [],
   "source": [
    "def getNumBins(numObs):\n",
    "    num_bins = (int((1 + 3.322 * np.log(numObs))/5)+1)*5\n",
    "    return num_bins\n",
    "    "
   ]
  },
  {
   "cell_type": "markdown",
   "metadata": {},
   "source": [
    "## 1. Data Distribution"
   ]
  },
  {
   "cell_type": "code",
   "execution_count": 5,
   "metadata": {},
   "outputs": [
    {
     "name": "stdout",
     "output_type": "stream",
     "text": [
      "bins =  20\n"
     ]
    },
    {
     "data": {
      "image/png": "[encoded data removed]",
      "text/plain": [
       "<Figure size 432x288 with 1 Axes>"
      ]
     },
     "metadata": {
      "needs_background": "light"
     },
     "output_type": "display_data"
    },
    {
     "data": {
      "image/png": "[encoded data removed]",
      "text/plain": [
       "<Figure size 432x288 with 1 Axes>"
      ]
     },
     "metadata": {
      "needs_background": "light"
     },
     "output_type": "display_data"
    }
   ],
   "source": [
    "bins = getNumBins(len(HumanTempData))\n",
    "print('bins = ',bins)\n",
    "plt.hist(HumanTempData['temperature'],density=1,bins=bins)\n",
    "qqplot(HumanTempData['temperature'],line='s')\n",
    "plt.show()"
   ]
  },
  {
   "cell_type": "markdown",
   "metadata": {},
   "source": [
    "#### Hypothesis:\n",
    "H<sub>0</sub> : Data is not normally distributed<br>\n",
    "H<sub>a</sub> : Data is normally distributed"
   ]
  },
  {
   "cell_type": "code",
   "execution_count": 6,
   "metadata": {
    "scrolled": true
   },
   "outputs": [
    {
     "name": "stdout",
     "output_type": "stream",
     "text": [
      "Statistics=0.987, p=0.233\n",
      "Fail to reject H0: Data is normally distributed\n"
     ]
    }
   ],
   "source": [
    "stat,p = st.shapiro(HumanTempData['temperature'])\n",
    "print('Statistics=%.3f, p=%.3f' % (stat, p))\n",
    "alpha = 0.05\n",
    "# interpret\n",
    "if p > alpha:\n",
    "    print('Fail to reject H0: Data is normally distributed')\n",
    "else:\n",
    "    print('Reject H0: Data is NOT normally distributed')"
   ]
  },
  {
   "cell_type": "markdown",
   "metadata": {},
   "source": [
    "#### Conclusion \n",
    "The histogram, QQ plot, and stats above suggest that the data is normally distributed."
   ]
  },
  {
   "cell_type": "markdown",
   "metadata": {},
   "source": [
    "## 2. Sample Size"
   ]
  },
  {
   "cell_type": "code",
   "execution_count": 7,
   "metadata": {},
   "outputs": [
    {
     "name": "stdout",
     "output_type": "stream",
     "text": [
      "98.24923076923078\n",
      "0.7303577789050377\n",
      "130\n"
     ]
    }
   ],
   "source": [
    "true_mu = 98.6\n",
    "alpha = 0.05  #significance\n",
    "num_of_iterations = 10000\n",
    "n = len(HumanTempData)\n",
    "print(np.mean(HumanTempData['temperature']))\n",
    "print(np.std(HumanTempData['temperature']))\n",
    "print(n)"
   ]
  },
  {
   "cell_type": "markdown",
   "metadata": {},
   "source": [
    "#### Conclusion:\n",
    "Sample size is 130 observations, which is a good size for sampling. A sample size of >30 observations is considered large.\n",
    "\n",
    "The sample can be considered independent due to following reasons:\n",
    "* Since the body temperature is independent between difference humans, and even within the same human being taken at 2 different times, the observations can be considered independent observations. \n",
    "* Considering the total population in the world, a sample of 130 observations is miniscule and satisfies the <10% of population condition."
   ]
  },
  {
   "cell_type": "markdown",
   "metadata": {},
   "source": [
    "## Hypothesis\n",
    "H<sub>0</sub> : Mean body temperature = 98.6&#8457;<br>\n",
    "H<sub>a</sub> : Mean body temperature <> 98.6&#8457;\n",
    "\n",
    "## 3. True temperature mean = 98.6&#8457;?\n",
    "### Bootstrap approach\n",
    "Bootstrap approach draws numerous random samples from the orignal sample thereby increasing the sample size and helping the data approach true random distribution as per Central Limit Theorem"
   ]
  },
  {
   "cell_type": "code",
   "execution_count": 8,
   "metadata": {
    "scrolled": false
   },
   "outputs": [
    {
     "data": {
      "image/png": "[encoded data removed]",
      "text/plain": [
       "<Figure size 432x288 with 1 Axes>"
      ]
     },
     "metadata": {
      "needs_background": "light"
     },
     "output_type": "display_data"
    },
    {
     "name": "stdout",
     "output_type": "stream",
     "text": [
      "Mean body temperature =  98.2\n",
      "Margin of Error = +/- 0.12\n",
      "95% Confidence interval = [98.12 98.38]\n",
      "Stated true mean body temperature =  98.6\n",
      "Probability that body temperature >= stated true mean (p) using z-stat = 0.0\n",
      "Probability that body temperature >= stated true mean (p) using t-stat = 0.0\n",
      "Using z-stat:\n",
      "    Reject H0: The data is STATISTICALLY SIGNIFICANTLY DIFFERENT from the true mean of body temperature; true_mean <> 98.6\n",
      "Using t-stat:\n",
      "    Reject H0: The data is STATISTICALLY SIGNIFICANTLY DIFFERENT from the true mean of body temperature; true_mean <> 98.6\n"
     ]
    }
   ],
   "source": [
    "MeanOfSamples = np.empty(num_of_iterations)\n",
    "\n",
    "for i in range(num_of_iterations):\n",
    "    MeanOfSamples[i] = np.mean(np.random.choice(a=HumanTempData['temperature'],size=len(HumanTempData['temperature']),replace=True))\n",
    "\n",
    "mu = np.mean(MeanOfSamples)\n",
    "sigma = np.std(MeanOfSamples)\n",
    "num_bins = getNumBins(len(MeanOfSamples))\n",
    "\n",
    "fig, ax = plt.subplots()\n",
    "\n",
    "# the histogram of the data\n",
    "n, bins, patches = ax.hist(MeanOfSamples, num_bins, density=1,alpha=0.3)\n",
    "\n",
    "# add a 'best fit' line\n",
    "y = ((1 / (np.sqrt(2 * np.pi) * sigma)) * np.exp(-0.5 * (1 / sigma * (bins - mu))**2))\n",
    "\n",
    "ax.plot(bins, y, '--')\n",
    "ax.set_xlabel('Temperature')\n",
    "ax.set_ylabel('PDF')\n",
    "ax.set_title('Histogram of Temperature: mu='+str(round(mu,2))+', sigma='+str(round(sigma,2))) #+'; True mu = '+str(true_mu)\n",
    "ax.vlines(mu,0,7,colors='g',linestyles='dashed')\n",
    "ax.vlines(np.percentile(MeanOfSamples,[2.5,97.5]),0,7,colors='y',linestyles='dashed')\n",
    "ax.vlines(true_mu,0,7,colors='r')\n",
    "\n",
    "# Tweak spacing to prevent clipping of ylabel\n",
    "fig.tight_layout()\n",
    "plt.show()\n",
    "\n",
    "t, p_t = st.ttest_1samp(MeanOfSamples,true_mu)\n",
    "z, p_z = ws.ztest(MeanOfSamples,value=true_mu)\n",
    "\n",
    "print('Mean body temperature = ',round(mu,1))\n",
    "print('Margin of Error = +/-',2*round(sigma,2))\n",
    "print('95% Confidence interval =',np.round(np.percentile(MeanOfSamples,[2.5,97.5]),2))\n",
    "print('Stated true mean body temperature = ',true_mu)\n",
    "print('Probability that body temperature >= stated true mean (p) using z-stat =',p_z)\n",
    "print('Probability that body temperature >= stated true mean (p) using t-stat =',p_t)\n",
    "\n",
    "print('Using z-stat:')\n",
    "if p_z > alpha:\n",
    "    print('    Fail to reject H0: The data is NOT STATISTICALLY SIGNIFICANTLY DIFFERENT from the true mean of body temperature; true_mean = 98.6')\n",
    "else:\n",
    "    print('    Reject H0: The data is STATISTICALLY SIGNIFICANTLY DIFFERENT from the true mean of body temperature; true_mean <> 98.6')\n",
    "    \n",
    "print('Using t-stat:')\n",
    "if p_t > alpha:\n",
    "    print('    Fail to reject H0: The data is NOT STATISTICALLY SIGNIFICANTLY DIFFERENT from the true mean of body temperature; true_mean = 98.6')\n",
    "else:\n",
    "    print('    Reject H0: The data is STATISTICALLY SIGNIFICANTLY DIFFERENT from the true mean of body temperature; true_mean <> 98.6')"
   ]
  },
  {
   "cell_type": "markdown",
   "metadata": {},
   "source": [
    "#### Conclusion\n",
    "Based on the observations above using bootstrap methodology, and hypothesis testing, we can reject H<sub>0</sub> and conclude that true mean of body temperature <> 98.6&#8457;"
   ]
  },
  {
   "cell_type": "markdown",
   "metadata": {},
   "source": [
    "### Frequentist Approach\n",
    "Bootstrapping approach draws random samples with replacement within one sample, producing complete normal curve according to Central Limit Theorem.\n",
    "\n",
    "Frequentist approach on the other hand constructs the 95% confidence using the original sample."
   ]
  },
  {
   "cell_type": "code",
   "execution_count": 9,
   "metadata": {},
   "outputs": [
    {
     "name": "stdout",
     "output_type": "stream",
     "text": [
      "98.24923076923078\n",
      "0.5375575432319613\n",
      "0.06430441683789101\n"
     ]
    }
   ],
   "source": [
    "print(np.mean(HumanTempData['temperature']))\n",
    "print(np.var(HumanTempData['temperature'],ddof=1))\n",
    "print(np.sqrt(np.var(HumanTempData['temperature'],ddof=1)/len(HumanTempData['temperature'])))"
   ]
  },
  {
   "cell_type": "code",
   "execution_count": 10,
   "metadata": {
    "scrolled": false
   },
   "outputs": [
    {
     "data": {
      "image/png": "[encoded data removed]",
      "text/plain": [
       "<Figure size 432x288 with 1 Axes>"
      ]
     },
     "metadata": {
      "needs_background": "light"
     },
     "output_type": "display_data"
    },
    {
     "name": "stdout",
     "output_type": "stream",
     "text": [
      "Mean body temperature =  98.2\n",
      "Margin of Error = +/- 1.46\n",
      "95% Confidence interval = [96.72 99.48]\n",
      "Stated true mean body temperature =  98.6\n",
      "Probability that body temperature >= stated true mean (p) using z-stat = 4.9021570141012155e-08\n",
      "Probability that body temperature >= stated true mean (p) using t-stat = 2.4106320415561276e-07\n",
      "Using z-stat:\n",
      "    Reject H0: The data is STATISTICALLY SIGNIFICANTLY DIFFERENT from the true mean of body temperature; true_mean <> 98.6\n",
      "Using t-stat:\n",
      "    Reject H0: The data is STATISTICALLY SIGNIFICANTLY DIFFERENT from the true mean of body temperature; true_mean <> 98.6\n"
     ]
    }
   ],
   "source": [
    "mu = np.mean(HumanTempData['temperature'])\n",
    "sigma = np.std(HumanTempData['temperature'])\n",
    "num_bins = getNumBins(len(HumanTempData['temperature']))\n",
    "\n",
    "fig, ax = plt.subplots()\n",
    "\n",
    "# the histogram of the data\n",
    "n, bins, patches = ax.hist(HumanTempData['temperature'], num_bins, density=1,alpha=0.3)\n",
    "\n",
    "# add a 'best fit' line\n",
    "y = ((1 / (np.sqrt(2 * np.pi) * sigma)) * np.exp(-0.5 * (1 / sigma * (bins - mu))**2))\n",
    "\n",
    "ax.plot(bins, y, '--')\n",
    "ax.set_xlabel('Temperature')\n",
    "ax.set_ylabel('PDF')\n",
    "ax.set_title('Histogram of Temperature: mu='+str(round(mu,2))+', sigma='+str(round(sigma,2))) #+'; True mu = '+str(true_mu)\n",
    "ax.vlines(mu,0,0.7,colors='g',linestyles='dashed')\n",
    "ax.vlines(np.percentile(HumanTempData['temperature'],[2.5,97.5]),0,0.7,colors='y',linestyles='dashed')\n",
    "ax.vlines(true_mu,0,0.7,colors='r')\n",
    "\n",
    "# Tweak spacing to prevent clipping of ylabel\n",
    "fig.tight_layout()\n",
    "plt.show()\n",
    "\n",
    "t, p_t = st.ttest_1samp(HumanTempData['temperature'],true_mu)\n",
    "z, p_z = ws.ztest(HumanTempData['temperature'],value=true_mu)\n",
    "\n",
    "print('Mean body temperature = ',round(mu,1))\n",
    "print('Margin of Error = +/-',2*round(sigma,2))\n",
    "print('95% Confidence interval =',np.round(np.percentile(HumanTempData['temperature'],[2.5,97.5]),2))\n",
    "print('Stated true mean body temperature = ',true_mu)\n",
    "print('Probability that body temperature >= stated true mean (p) using z-stat =',p_z)\n",
    "print('Probability that body temperature >= stated true mean (p) using t-stat =',p_t)\n",
    "\n",
    "print('Using z-stat:')\n",
    "if p_z > alpha:\n",
    "    print('    Fail to reject H0: The data is NOT STATISTICALLY SIGNIFICANTLY DIFFERENT from the true mean of body temperature; true_mean = 98.6')\n",
    "else:\n",
    "    print('    Reject H0: The data is STATISTICALLY SIGNIFICANTLY DIFFERENT from the true mean of body temperature; true_mean <> 98.6')\n",
    "    \n",
    "print('Using t-stat:')\n",
    "if p_t > alpha:\n",
    "    print('    Fail to reject H0: The data is NOT STATISTICALLY SIGNIFICANTLY DIFFERENT from the true mean of body temperature; true_mean = 98.6')\n",
    "else:\n",
    "    print('    Reject H0: The data is STATISTICALLY SIGNIFICANTLY DIFFERENT from the true mean of body temperature; true_mean <> 98.6')"
   ]
  },
  {
   "cell_type": "markdown",
   "metadata": {},
   "source": [
    "#### Conclusion\n",
    "Based on the observations above using frequentist methodology, and hypothesis testing, the true mean falls within the 95% confidence interval and has a p-value of 0.37, which is greater than the significant probability of 0.05. So we fail to reject H<sub>0</sub> and conclude that true mean of body temperature = 98.6&#8457;\n",
    "\n",
    "The difference in the conclusion is due to the sample size. The bootstrap approach produces 10000 random samples, which decreases the margin of error by a great extent, decreasing the 95% confidence interval. The smaller sample size of 130 in frequentist approach compared to 10000 in bootstrap approach.\n",
    "\n",
    "One Sample vs two sample: In this case we used one sample analysis because we considered all the observations as one sample. If we were to analyze the body temperature between male and female, that would be a two sample test"
   ]
  },
  {
   "cell_type": "markdown",
   "metadata": {},
   "source": [
    "### t vs z\n",
    "t-statistic would be more credible for smaller sample sizes (<30) since it considers the sample size (degrees of freedom) and provides appropriate measure based on the sample size. <br>\n",
    "In this case, with a sample size of 130 (>30), t or z statistic would give close results. With large sample sizes, it's preferable to use z statistic. "
   ]
  },
  {
   "cell_type": "code",
   "execution_count": 11,
   "metadata": {},
   "outputs": [
    {
     "name": "stdout",
     "output_type": "stream",
     "text": [
      "95% confidence t = 1.978524491458605\n",
      "95% confidence z = 1.959963984540054\n",
      "95% confidence interval using t stat =  [96.80420001613984, 99.69426152232171]\n",
      "95% confidence interval using z stat =  [96.81775582674824, 99.68070571171332]\n"
     ]
    },
    {
     "data": {
      "image/png": "[encoded data removed]",
      "text/plain": [
       "<Figure size 432x288 with 1 Axes>"
      ]
     },
     "metadata": {
      "needs_background": "light"
     },
     "output_type": "display_data"
    },
    {
     "data": {
      "image/png": "[encoded data removed]",
      "text/plain": [
       "<Figure size 432x288 with 1 Axes>"
      ]
     },
     "metadata": {
      "needs_background": "light"
     },
     "output_type": "display_data"
    }
   ],
   "source": [
    "#Get t and z values for 95% confidence interval\n",
    "t = st.t.ppf(0.975,len(HumanTempData['temperature'])-1)\n",
    "z = st.norm.ppf(0.975)\n",
    "print('95% confidence t =',t)\n",
    "print('95% confidence z =',z)\n",
    "\n",
    "t_95 = [mu-t*sigma, mu+t*sigma]\n",
    "z_95 = [mu-z*sigma, mu+z*sigma]\n",
    "\n",
    "print('95% confidence interval using t stat = ',t_95)\n",
    "print('95% confidence interval using z stat = ',z_95)\n",
    "\n",
    "fig, ax = plt.subplots()\n",
    "\n",
    "# the histogram of the data\n",
    "#n, bins, patches = ax.hist(HumanTempData['temperature'], num_bins, density=1)\n",
    "\n",
    "# add a 'best fit' line\n",
    "y = ((1 / (np.sqrt(2 * np.pi) * sigma)) * np.exp(-0.5 * (1 / sigma * (bins - mu))**2))\n",
    "\n",
    "ax.plot(bins, y, '--')\n",
    "ax.set_xlabel('Temperature')\n",
    "ax.set_ylabel('PDF')\n",
    "ax.set_title('Histogram of Temperature t-stat: mu='+str(round(mu,2))+', sigma='+str(round(sigma,2))) #+'; True mu = '+str(true_mu)\n",
    "ax.vlines(mu,0,0.7,colors='g',linestyles='dashed')\n",
    "ax.vlines(t_95,0,0.7,colors='y',linestyles='dashed')\n",
    "ax.vlines(true_mu,0,0.7,colors='r')\n",
    "fig.tight_layout()\n",
    "plt.show()\n",
    "\n",
    "fig, ax = plt.subplots()\n",
    "ax.plot(bins, y, '--')\n",
    "ax.set_xlabel('Temperature')\n",
    "ax.set_ylabel('PDF')\n",
    "ax.set_title('Histogram of Temperature z-stat: mu='+str(round(mu,2))+', sigma='+str(round(sigma,2))) #+'; True mu = '+str(true_mu)\n",
    "ax.vlines(mu,0,0.7,colors='g',linestyles='dashed')\n",
    "ax.vlines(z_95,0,0.7,colors='y',linestyles='dashed')\n",
    "ax.vlines(true_mu,0,0.7,colors='r')\n",
    "\n",
    "\n",
    "# Tweak spacing to prevent clipping of ylabel\n",
    "fig.tight_layout()\n",
    "plt.show()\n",
    "\n"
   ]
  },
  {
   "cell_type": "markdown",
   "metadata": {},
   "source": [
    "#### Conclusion\n",
    "As seen above, the 95% confidence intervals between t-stat and z-stat are almost identical and the true mean of 98.6&#8457; falls within the confidence interval of both the tests."
   ]
  },
  {
   "cell_type": "markdown",
   "metadata": {},
   "source": [
    "## 4. Small sample size of 10\n",
    "\n",
    "### t vs z for a sample size of 10\n",
    "As stated above, t statistic is more efficient for smaller samples with size < 30. In this case with a sample size of 10, t statistic will give a better margin of error."
   ]
  },
  {
   "cell_type": "code",
   "execution_count": 12,
   "metadata": {},
   "outputs": [
    {
     "name": "stdout",
     "output_type": "stream",
     "text": [
      "95% confidence t = 2.2621571627409915\n",
      "95% confidence z = 1.959963984540054\n",
      "95% confidence interval using t stat =  [96.03700544841116, 99.42299455158884]\n",
      "95% confidence interval using z stat =  [96.26316630613053, 99.19683369386948]\n"
     ]
    },
    {
     "data": {
      "image/png": "[encoded data removed]",
      "text/plain": [
       "<Figure size 432x288 with 1 Axes>"
      ]
     },
     "metadata": {
      "needs_background": "light"
     },
     "output_type": "display_data"
    },
    {
     "data": {
      "image/png": "[encoded data removed]",
      "text/plain": [
       "<Figure size 432x288 with 1 Axes>"
      ]
     },
     "metadata": {
      "needs_background": "light"
     },
     "output_type": "display_data"
    }
   ],
   "source": [
    "#Get t and z values for 95% confidence interval\n",
    "data = np.random.choice(HumanTempData['temperature'],size=10)\n",
    "\n",
    "mu = np.mean(data)\n",
    "sigma = np.std(data)\n",
    "num_bins = getNumBins(len(data))\n",
    "\n",
    "t = st.t.ppf(0.975,len(data)-1)\n",
    "z = st.norm.ppf(0.975)\n",
    "print('95% confidence t =',t)\n",
    "print('95% confidence z =',z)\n",
    "\n",
    "t_95 = [mu-t*sigma, mu+t*sigma]\n",
    "z_95 = [mu-z*sigma, mu+z*sigma]\n",
    "\n",
    "print('95% confidence interval using t stat = ',t_95)\n",
    "print('95% confidence interval using z stat = ',z_95)\n",
    "\n",
    "fig, ax = plt.subplots()\n",
    "\n",
    "# the histogram of the data\n",
    "#n, bins, patches = ax.hist(HumanTempData['temperature'], num_bins, density=1)\n",
    "\n",
    "# add a 'best fit' line\n",
    "y = ((1 / (np.sqrt(2 * np.pi) * sigma)) * np.exp(-0.5 * (1 / sigma * (bins - mu))**2))\n",
    "\n",
    "ax.plot(bins, y, '--')\n",
    "ax.set_xlabel('Temperature')\n",
    "ax.set_ylabel('PDF')\n",
    "ax.set_title('Histogram of Temperature t-stat: mu='+str(round(mu,2))+', sigma='+str(round(sigma,2))) #+'; True mu = '+str(true_mu)\n",
    "plt.xlim(95,101)\n",
    "ax.vlines(mu,0,0.7,colors='g',linestyles='dashed')\n",
    "ax.vlines(t_95,0,0.7,colors='y',linestyles='dashed')\n",
    "ax.vlines(true_mu,0,0.7,colors='r')\n",
    "fig.tight_layout()\n",
    "plt.show()\n",
    "\n",
    "fig, ax = plt.subplots()\n",
    "ax.plot(bins, y, '--')\n",
    "ax.set_xlabel('Temperature')\n",
    "ax.set_ylabel('PDF')\n",
    "ax.set_title('Histogram of Temperature z-stat: mu='+str(round(mu,2))+', sigma='+str(round(sigma,2))) #+'; True mu = '+str(true_mu)\n",
    "plt.xlim(95,101)\n",
    "ax.vlines(mu,0,0.7,colors='g',linestyles='dashed')\n",
    "ax.vlines(z_95,0,0.7,colors='y',linestyles='dashed')\n",
    "ax.vlines(true_mu,0,0.7,colors='r')\n",
    "\n",
    "\n",
    "# Tweak spacing to prevent clipping of ylabel\n",
    "fig.tight_layout()\n",
    "plt.show()\n"
   ]
  },
  {
   "cell_type": "markdown",
   "metadata": {},
   "source": [
    "#### Conclusion\n",
    "As evidenced above, using t-statistic for smaller samples produces bigger margin of error and wider 95% confidence intervals. So for analysis of smaller samples of size <30, one can be more confident with the results by using t-statistic."
   ]
  },
  {
   "cell_type": "markdown",
   "metadata": {},
   "source": [
    "## 5. Abnormal Temperature\n",
    "### Bootstrap Approach"
   ]
  },
  {
   "cell_type": "code",
   "execution_count": 13,
   "metadata": {},
   "outputs": [
    {
     "name": "stdout",
     "output_type": "stream",
     "text": [
      "95% Confidence interval using t-stat:  [98.1235744310298, 98.37665603050868]\n",
      "95% Confidence interval using z-stat:  [98.12358974858175, 98.37664071295673]\n",
      "95% Confidence interval using percentile method:  [98.12384615 98.37538462]\n"
     ]
    }
   ],
   "source": [
    "MeanOfSamples = np.empty(num_of_iterations)\n",
    "\n",
    "for i in range(num_of_iterations):\n",
    "    MeanOfSamples[i] = np.mean(np.random.choice(a=HumanTempData['temperature'],size=len(HumanTempData['temperature']),replace=True))\n",
    "\n",
    "mu = np.mean(MeanOfSamples)\n",
    "sigma = np.std(MeanOfSamples)\n",
    "num_bins = getNumBins(len(MeanOfSamples))\n",
    "\n",
    "#Using t stat:\n",
    "t_95 = [mu-st.t.ppf(0.975,df=num_of_iterations-1)*sigma, mu+st.t.ppf(0.975,df=num_of_iterations-1)*sigma]\n",
    "\n",
    "#Using z stat:\n",
    "z_95 = [mu-st.norm.ppf(0.975)*sigma, mu+st.norm.ppf(0.975)*sigma]\n",
    "\n",
    "#Using np percentile\n",
    "perc_95 = np.percentile(MeanOfSamples,[2.5,97.5])\n",
    "\n",
    "print('95% Confidence interval using t-stat: ',t_95)\n",
    "print('95% Confidence interval using z-stat: ',z_95)\n",
    "print('95% Confidence interval using percentile method: ',perc_95)"
   ]
  },
  {
   "cell_type": "markdown",
   "metadata": {},
   "source": [
    "Bootstrap methodology allows for an increase in sample size - 10,000 in this case, there by decreasing the margin of error. So we observe that bootstrap method gives a very narrow margin of error suggesting that any temperature beyond 98.12&#8457; - 98.37&#8457; is abnormal."
   ]
  },
  {
   "cell_type": "markdown",
   "metadata": {},
   "source": [
    "### Frequentist Approach"
   ]
  },
  {
   "cell_type": "code",
   "execution_count": 14,
   "metadata": {},
   "outputs": [
    {
     "name": "stdout",
     "output_type": "stream",
     "text": [
      "95% Confidence interval using t-stat:  [96.80420001613984, 99.69426152232171]\n",
      "95% Confidence interval using z-stat:  [96.81775582674824, 99.68070571171332]\n",
      "95% Confidence interval using percentile method:  [96.7225 99.4775]\n"
     ]
    }
   ],
   "source": [
    "mu = np.mean(HumanTempData['temperature'])\n",
    "sigma = np.std(HumanTempData['temperature'])\n",
    "num_bins = getNumBins(len(HumanTempData['temperature']))\n",
    "\n",
    "#Using t stat:\n",
    "t_95 = [mu-st.t.ppf(0.975,df=len(HumanTempData['temperature'])-1)*sigma, mu+st.t.ppf(0.975,df=len(HumanTempData['temperature'])-1)*sigma]\n",
    "t_moe = st.t.ppf(0.975,df=len(HumanTempData['temperature'])-1)*sigma\n",
    "\n",
    "#Using z stat:\n",
    "z_95 = [mu-st.norm.ppf(0.975)*sigma, mu+st.norm.ppf(0.975)*sigma]\n",
    "z_moe = st.norm.ppf(0.975)*sigma\n",
    "\n",
    "#Using np percentile\n",
    "perc_95 = np.percentile(HumanTempData['temperature'],[2.5,97.5])\n",
    "\n",
    "print('95% Confidence interval using t-stat: ',t_95)\n",
    "print('95% Confidence interval using z-stat: ',z_95)\n",
    "print('95% Confidence interval using percentile method: ',perc_95)"
   ]
  },
  {
   "cell_type": "markdown",
   "metadata": {},
   "source": [
    "Frequentist methodology lets us work with the original sample, keeping the sample size limited to whatever is available - 130 in this case. Due to a relatively smaller sample size compared to bootstrap's 10000, frequentist approach gives a wider confidence interval and higher margin of error, making temperatures beyond 96.8&#8457; and 99.7&#8457; abnormal."
   ]
  },
  {
   "cell_type": "markdown",
   "metadata": {},
   "source": [
    "#### Conclusion\n",
    "As evidence above, frequentist methodology gives a wider confidence interval. However, carefully choosing the number of iterations in bootstrap methodology may provide similar/better results. "
   ]
  },
  {
   "cell_type": "markdown",
   "metadata": {},
   "source": [
    "## 6. Male vs Female temperature\n",
    "### Hypothesis\n",
    "H<sub>0</sub> : Mean body temperature of males = Mean body temperature of females<br>\n",
    "H<sub>a</sub> : Mean body temperature of males <> Mean body temperature of females\n",
    "#### Approach\n",
    "In this case, we use two sample test to test the difference of means betweens samples of male and female body temperatures"
   ]
  },
  {
   "cell_type": "code",
   "execution_count": 15,
   "metadata": {},
   "outputs": [
    {
     "name": "stdout",
     "output_type": "stream",
     "text": [
      "Number of male observations:  65\n",
      "Number of female observations:  65\n",
      "Difference of mean (female - male):  0.289230769230727\n",
      "Shifted mean method:\n",
      "    p-value using shifted mean bootstrap method: 0.0106\n",
      "    Reject H0: The data is STATISTICALLY SIGNIFICANTLY DIFFERENT between male and female temperatures; mean male temperature <> mean female temperature\n",
      "\n",
      "Combined data simulation:\n",
      "    p-value using combined data method: 0.0\n",
      "    Reject H0: The data is STATISTICALLY SIGNIFICANTLY DIFFERENT between male and female temperatures; mean male temperature <> mean female temperature\n",
      "\n",
      "two-sample method:\n",
      "    p-value using 2 sample z test: 0.02228736076065755\n",
      "    Reject H0: The data is STATISTICALLY SIGNIFICANTLY DIFFERENT between male and female temperatures; mean male temperature <> mean female temperature\n",
      "    p-value using 2 sample z test: 0.02393188312239561\n",
      "    Reject H0: The data is STATISTICALLY SIGNIFICANTLY DIFFERENT between male and female temperatures; mean male temperature <> mean female temperature\n"
     ]
    }
   ],
   "source": [
    "def draw_bs_replicates(data,func,size):\n",
    "    bs_replicate = np.empty(size)\n",
    "    for i in range(size):\n",
    "        bs_replicate[i] = func(np.random.choice(data,len(data)))\n",
    "        \n",
    "    return bs_replicate\n",
    "\n",
    "male_orig = HumanTempData.temperature[HumanTempData.gender=='M']\n",
    "female_orig = HumanTempData.temperature[HumanTempData.gender=='F']\n",
    "diff_mean = np.mean(female_orig)-np.mean(male_orig)\n",
    "print('Number of male observations: ',len(male_orig))\n",
    "print('Number of female observations: ',len(female_orig))\n",
    "print('Difference of mean (female - male): ',diff_mean)\n",
    "\n",
    "# Shifted mean method\n",
    "print('Shifted mean method:')\n",
    "male_shifted = male_orig - np.mean(male_orig) + mu\n",
    "female_shifted = female_orig - np.mean(female_orig) + mu\n",
    "\n",
    "bs_replicates_male = draw_bs_replicates(male_shifted,np.mean,num_of_iterations)\n",
    "bs_replicates_female = draw_bs_replicates(female_shifted,np.mean,num_of_iterations)\n",
    "\n",
    "p = np.sum((bs_replicates_female-bs_replicates_male)>=diff_mean)/num_of_iterations\n",
    "print('    p-value using shifted mean bootstrap method:',p)\n",
    "\n",
    "if p > alpha:\n",
    "    print('    Fail to reject H0: The data is NOT STATISTICALLY SIGNIFICANTLY DIFFERENT between male and females; mean male temperature = mean female temperature')\n",
    "else:\n",
    "    print('    Reject H0: The data is STATISTICALLY SIGNIFICANTLY DIFFERENT between male and female temperatures; mean male temperature <> mean female temperature')\n",
    "    \n",
    "# Combined data method\n",
    "print('\\nCombined data simulation:')\n",
    "np.random.seed(1)\n",
    "perm_sample = np.random.permutation(HumanTempData.temperature)\n",
    "male_combined = perm_sample[:65]\n",
    "female_combined = perm_sample[65:]\n",
    "\n",
    "p = np.sum(np.mean(female_combined)-np.mean(male_combined)>=diff_mean)/len(female_combined)\n",
    "print('    p-value using combined data method:',p)\n",
    "\n",
    "if p > alpha:\n",
    "    print('    Fail to reject H0: The data is NOT STATISTICALLY SIGNIFICANTLY DIFFERENT between male and females; mean male temperature = mean female temperature')\n",
    "else:\n",
    "    print('    Reject H0: The data is STATISTICALLY SIGNIFICANTLY DIFFERENT between male and female temperatures; mean male temperature <> mean female temperature')\n",
    "\n",
    "#two-sample method\n",
    "print('\\ntwo-sample method:')\n",
    "t_2s, p_2s_t = st.ttest_ind(male_orig,female_orig)\n",
    "z_2s, p_2s_z = ws.ztest(x1=male_orig,x2=female_orig)\n",
    "\n",
    "print('    p-value using 2 sample z test:',p_2s_z)\n",
    "\n",
    "if p_2s_z > alpha:\n",
    "    print('    Fail to reject H0: The data is NOT STATISTICALLY SIGNIFICANTLY DIFFERENT between male and females; mean male temperature = mean female temperature')\n",
    "else:\n",
    "    print('    Reject H0: The data is STATISTICALLY SIGNIFICANTLY DIFFERENT between male and female temperatures; mean male temperature <> mean female temperature')\n",
    "\n",
    "print('    p-value using 2 sample z test:',p_2s_t)\n",
    "\n",
    "if p_2s_t > alpha:\n",
    "    print('    Fail to reject H0: The data is NOT STATISTICALLY SIGNIFICANTLY DIFFERENT between male and females; mean male temperature = mean female temperature')\n",
    "else:\n",
    "    print('    Reject H0: The data is STATISTICALLY SIGNIFICANTLY DIFFERENT between male and female temperatures; mean male temperature <> mean female temperature')\n"
   ]
  },
  {
   "cell_type": "markdown",
   "metadata": {},
   "source": [
    "# Conclusion\n",
    "The above tests prove certain aspects:\n",
    "1. Choosing right sample size is key for any analysis. Greater sample size decreases the margin of error, and smaller sample size increases it.\n",
    "2. Any temperature beyond 96.8&#8457; and 99.7&#8457; is abnormal\n",
    "3. According to frequentist approach, the data is NOT STATISTICALLY SIGNIFICANTLY DIFFERENT from the true mean of body temperature, suggesing true_mean = 98.6&#8457;\n",
    "4. Females have higher mean body temperatures that males do. \n",
    "5. Significant due diligance must be made prior to choosing bootstrap / frequentist approach as the results completely vary based on the chosen methodology"
   ]
  }
 ],
 "metadata": {
  "kernelspec": {
   "display_name": "Python 3",
   "language": "python",
   "name": "python3"
  },
  "language_info": {
   "codemirror_mode": {
    "name": "ipython",
    "version": 3
   },
   "file_extension": ".py",
   "mimetype": "text/x-python",
   "name": "python",
   "nbconvert_exporter": "python",
   "pygments_lexer": "ipython3",
   "version": "3.7.1"
  }
 },
 "nbformat": 4,
 "nbformat_minor": 1
}
